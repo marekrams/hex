{
 "cells": [
  {
   "cell_type": "code",
   "execution_count": 1,
   "metadata": {},
   "outputs": [],
   "source": [
    "import ast\n",
    "import time\n",
    "import numpy as np\n",
    "import yastn\n",
    "import yastn.tn.mps as mps\n",
    "import yastn.tn.fpeps as peps\n",
    "from routines import map_hex"
   ]
  },
  {
   "cell_type": "code",
   "execution_count": 5,
   "metadata": {},
   "outputs": [],
   "source": [
    "file = open(\"./problems/QAOA_angles/16.txt\", \"r\")\n",
    "angles = ast.literal_eval(file.read())\n",
    "file.close()\n",
    "\n",
    "angles=angles[0] # w ogólności angles[angles_instance_name][p-1]\n",
    "beta = angles[:len(angles)//2]\n",
    "gamma = angles[len(angles)//2:]\n",
    "\n"
   ]
  },
  {
   "cell_type": "code",
   "execution_count": 7,
   "metadata": {},
   "outputs": [
    {
     "data": {
      "text/plain": [
       "36"
      ]
     },
     "execution_count": 7,
     "metadata": {},
     "output_type": "execute_result"
    }
   ],
   "source": [
    "len(angles)"
   ]
  },
  {
   "cell_type": "code",
   "execution_count": 3,
   "metadata": {},
   "outputs": [],
   "source": [
    "# Hamiltonian\n",
    "Nspins = {\"kyiv\": 127, \"torino\": 133, \"fez\": 156}\n",
    "\n",
    "for k, v in Nspins.items():\n",
    "    fname = f\"./problems/transfer_Hamiltonian_ibm_{k}_0.pkl\"\n",
    "    data = np.load(fname, allow_pickle=True)\n",
    "    HC = data[\"H\"]\n",
    "    #HM = {(n,): 1 for n in range(127)}\n",
    "    assert v == max(max(x) for x in data['H'].keys()) + 1\n"
   ]
  },
  {
   "cell_type": "code",
   "execution_count": 4,
   "metadata": {},
   "outputs": [
    {
     "data": {
      "text/plain": [
       "<routines._maps.MapHex156_r3 at 0x7fcc54329280>"
      ]
     },
     "execution_count": 4,
     "metadata": {},
     "output_type": "execute_result"
    }
   ],
   "source": [
    "map_hex(127, 3)\n",
    "map_hex(127, 4)\n",
    "map_hex(133)\n",
    "map_hex(156)"
   ]
  }
 ],
 "metadata": {
  "kernelspec": {
   "display_name": "yastn",
   "language": "python",
   "name": "python3"
  },
  "language_info": {
   "codemirror_mode": {
    "name": "ipython",
    "version": 3
   },
   "file_extension": ".py",
   "mimetype": "text/x-python",
   "name": "python",
   "nbconvert_exporter": "python",
   "pygments_lexer": "ipython3",
   "version": "3.12.8"
  }
 },
 "nbformat": 4,
 "nbformat_minor": 2
}
