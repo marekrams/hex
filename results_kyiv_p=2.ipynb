{
 "cells": [
  {
   "cell_type": "code",
   "execution_count": 2,
   "metadata": {},
   "outputs": [],
   "source": [
    "import time\n",
    "import numpy as np\n",
    "import matplotlib.pyplot as plt\n",
    "import csv\n",
    "import glob\n"
   ]
  },
  {
   "cell_type": "code",
   "execution_count": 3,
   "metadata": {},
   "outputs": [],
   "source": [
    "res = {}\n",
    "for p in [2]:\n",
    "    res[p] = {}\n",
    "    for r in [3, 4]:\n",
    "        try:\n",
    "            with open(f\"./results/Hamiltonian_ibm_kyiv_0/16_0/{p=}/results_{r=}.csv\", 'r') as f:\n",
    "                rd = csv.DictReader(f, delimiter=';', quotechar=\"'\")\n",
    "                res[p][r] = list(rd)\n",
    "        except FileNotFoundError:\n",
    "            pass"
   ]
  },
  {
   "cell_type": "code",
   "execution_count": 4,
   "metadata": {},
   "outputs": [],
   "source": [
    "ref = np.load(f\"./problems/transfer_Hamiltonian_ibm_kyiv_0_angles_16_0_p_5.pkl\", allow_pickle=True)\n",
    "ref['beta'] = [0.48912372014861294, 0.2736708779840032] \n",
    "ref['gamma'] = [2.955984139930106, 2.8123696023056692]\n",
    "\n"
   ]
  },
  {
   "cell_type": "code",
   "execution_count": 5,
   "metadata": {},
   "outputs": [
    {
     "name": "stdout",
     "output_type": "stream",
     "text": [
      "342\n"
     ]
    }
   ],
   "source": [
    "ref_ev = {}\n",
    "for i0, v in np.loadtxt(\"/home/marek/hex/results/Hamiltonian_ibm_kyiv_0/16_0/mps_p=2/h_kiev_p2_16_0.txt\"):\n",
    "    ref_ev[int(i0),] = v\n",
    "for i0, i1, v in np.loadtxt(\"/home/marek/hex/results/Hamiltonian_ibm_kyiv_0/16_0/mps_p=2/J_kiev_p2_16_0.txt\"):\n",
    "    ref_ev[int(i0), int(i1)] = v\n",
    "for i0, i1, i2, v in np.loadtxt(\"/home/marek/hex/results/Hamiltonian_ibm_kyiv_0/16_0/mps_p=2/ZZZ_kiev_p2_16_0.txt\"):\n",
    "    ref_ev[int(i0), int(i1), int(i2)] = v\n",
    "print(len(ref_ev))"
   ]
  },
  {
   "cell_type": "code",
   "execution_count": 6,
   "metadata": {},
   "outputs": [],
   "source": [
    "res = {}\n",
    "for ff in glob.glob(\"/home/marek/hex/results/Hamiltonian_ibm_kyiv_0/16_0/p=2/*.npy\"):\n",
    "    fff = ff.split(\"/\")[-1]\n",
    "    ggg = fff[10:-4].split(\"_\")\n",
    "    pp = int(ggg[0])\n",
    "    rr = int(ggg[1].split(\"=\")[1])\n",
    "    DD = int(ggg[2].split(\"=\")[1])\n",
    "    cc = int(ggg[-1].split(\"=\")[1])\n",
    "    ind = (pp, rr, DD, cc)\n",
    "    res[ind] = np.load(ff, allow_pickle=True).item()"
   ]
  },
  {
   "cell_type": "code",
   "execution_count": 30,
   "metadata": {},
   "outputs": [
    {
     "data": {
      "text/plain": [
       "dict_keys([(2, 3, 4, 1), (2, 3, 4, 4), (2, 3, 4, 2), (2, 3, 4, 8), (2, 3, 4, 16), (2, 3, 4, 32)])"
      ]
     },
     "execution_count": 30,
     "metadata": {},
     "output_type": "execute_result"
    }
   ],
   "source": [
    "res.keys()"
   ]
  },
  {
   "cell_type": "code",
   "execution_count": 7,
   "metadata": {},
   "outputs": [],
   "source": [
    "dres = {}\n",
    "for k, ev in res.items():\n",
    "    assert len(ev) == len(ref_ev)\n",
    "    dres[k] = max(abs(ref['H'][ii] * ev[ii] - ref_ev[ii]) for ii in ref_ev)\n"
   ]
  },
  {
   "cell_type": "code",
   "execution_count": null,
   "metadata": {},
   "outputs": [],
   "source": [
    "dres2 = {}\n",
    "for k, ev in res.items():\n",
    "    assert len(ev) == len(ref_ev)\n",
    "    dres[k] = max(abs(ref['H'][ii] * ev[ii] - ref_ev[ii]) for ii in ref_ev)"
   ]
  },
  {
   "cell_type": "code",
   "execution_count": 39,
   "metadata": {},
   "outputs": [
    {
     "data": {
      "text/plain": [
       "Text(0.5, 1.0, 'MPS p=2 vs PEPS D=4')"
      ]
     },
     "execution_count": 39,
     "metadata": {},
     "output_type": "execute_result"
    },
    {
     "data": {
      "image/png": "[encoded data removed]",
      "text/plain": [
       "<Figure size 640x480 with 1 Axes>"
      ]
     },
     "metadata": {},
     "output_type": "display_data"
    }
   ],
   "source": [
    "xx = [1 / k[3] for k in sorted(dres.keys())]\n",
    "yy = list(dres[k] for k in sorted(dres.keys()))\n",
    "\n",
    "plt.loglog(xx, yy, '+-')\n",
    "plt.ylim([1e-7, 1e-4])\n",
    "plt.xlabel(\"1 / chi\")\n",
    "plt.ylabel(\"max EV error\")\n",
    "plt.title(\"MPS p=2 vs PEPS D=4\")"
   ]
  }
 ],
 "metadata": {
  "kernelspec": {
   "display_name": "yastn",
   "language": "python",
   "name": "python3"
  },
  "language_info": {
   "codemirror_mode": {
    "name": "ipython",
    "version": 3
   },
   "file_extension": ".py",
   "mimetype": "text/x-python",
   "name": "python",
   "nbconvert_exporter": "python",
   "pygments_lexer": "ipython3",
   "version": "3.12.8"
  }
 },
 "nbformat": 4,
 "nbformat_minor": 2
}
