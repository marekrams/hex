{
 "cells": [
  {
   "cell_type": "code",
   "execution_count": 1,
   "metadata": {},
   "outputs": [],
   "source": [
    "import time\n",
    "import numpy as np\n",
    "import yastn\n",
    "import yastn.tn.mps as mps\n",
    "import yastn.tn.fpeps as peps\n",
    "from routines import NSpin12, MapHex127_r4, MapHex127_r3, gates_from_HH, gates_from_HH2, measure_H_ctm, measure_H_mps"
   ]
  },
  {
   "cell_type": "code",
   "execution_count": 2,
   "metadata": {},
   "outputs": [],
   "source": [
    "\n",
    "fname = \"/home/marek/hex/problems/transfer_Hamiltonian_ibm_kyiv_0_angles_16_0_p_20.pkl\"\n",
    "data = np.load(fname, allow_pickle=True)"
   ]
  },
  {
   "cell_type": "code",
   "execution_count": 10,
   "metadata": {},
   "outputs": [],
   "source": [
    "# Hamiltonian\n",
    "fname = \"./problems/sherbrooke0v3.pkl\"\n",
    "data = np.load(fname, allow_pickle=True)\n",
    "HC = data[\"H\"]\n",
    "HM = {(n,): 1 for n in range(127)}\n",
    "#\n",
    "angles = {\"p=3\": {\"beta\": (0.50502, 0.35713, 0.19264),\n",
    "                  \"gamma\": (-0.14264, -0.26589, -0.34195)},\n",
    "          \"p=4\": {\"beta\": (0.54321, 0.41806, 0.28615, 0.16041),\n",
    "                  \"gamma\": (-0.12077, -0.22360, -0.29902, -0.35329)},\n",
    "          \"p=5\": {\"beta\": (0.53822, 0.44776, 0.32923, 0.23056, 0.12587),\n",
    "                  \"gamma\": (-0.11764, -0.19946, -0.268736, -0.321586, -0.34583)},}"
   ]
  },
  {
   "cell_type": "code",
   "execution_count": 11,
   "metadata": {},
   "outputs": [],
   "source": [
    "# group spins\n",
    "hex4 = MapHex127_r4()\n",
    "ops = NSpin12(sym='dense')\n",
    "#\n",
    "# translate Hamiltonian to grouped sites\n",
    "HHC4 = hex4.group_H(HC, ops.z, ops.I)\n",
    "HHM4 = hex4.group_H(HM, ops.x, ops.I)"
   ]
  },
  {
   "cell_type": "code",
   "execution_count": 12,
   "metadata": {},
   "outputs": [],
   "source": [
    "g1 = gates_from_HH(HHC4, 1)\n",
    "g2 = gates_from_HH2(HHC4, 1)"
   ]
  },
  {
   "cell_type": "code",
   "execution_count": 16,
   "metadata": {},
   "outputs": [
    {
     "data": {
      "text/plain": [
       "45"
      ]
     },
     "execution_count": 16,
     "metadata": {},
     "output_type": "execute_result"
    }
   ],
   "source": [
    "len(g2.nn)"
   ]
  },
  {
   "cell_type": "code",
   "execution_count": 17,
   "metadata": {},
   "outputs": [
    {
     "name": "stdout",
     "output_type": "stream",
     "text": [
      "Step: 0; Evolution time: 11.94; Truncation error: 0.000000\n",
      "Step: 1; Evolution time: 24.00; Truncation error: 0.000000\n"
     ]
    },
    {
     "ename": "KeyboardInterrupt",
     "evalue": "",
     "output_type": "error",
     "traceback": [
      "\u001b[0;31m---------------------------------------------------------------------------\u001b[0m",
      "\u001b[0;31mKeyboardInterrupt\u001b[0m                         Traceback (most recent call last)",
      "Cell \u001b[0;32mIn[17], line 21\u001b[0m\n\u001b[1;32m     19\u001b[0m t0 \u001b[38;5;241m=\u001b[39m time\u001b[38;5;241m.\u001b[39mtime()\n\u001b[1;32m     20\u001b[0m \u001b[38;5;28;01mfor\u001b[39;00m step, (gamma, beta) \u001b[38;5;129;01min\u001b[39;00m \u001b[38;5;28menumerate\u001b[39m(\u001b[38;5;28mzip\u001b[39m(gammas, betas)):\n\u001b[0;32m---> 21\u001b[0m     gates \u001b[38;5;241m=\u001b[39m \u001b[43mgates_from_HH2\u001b[49m\u001b[43m(\u001b[49m\u001b[43mHHC4\u001b[49m\u001b[43m,\u001b[49m\u001b[43m \u001b[49m\u001b[43mgamma\u001b[49m\u001b[43m)\u001b[49m\n\u001b[1;32m     22\u001b[0m     infos \u001b[38;5;241m=\u001b[39m peps\u001b[38;5;241m.\u001b[39mevolution_step_(env4, gates, opts_svd\u001b[38;5;241m=\u001b[39mopts_svd_evol, symmetrize\u001b[38;5;241m=\u001b[39m\u001b[38;5;28;01mFalse\u001b[39;00m)\n\u001b[1;32m     23\u001b[0m     infoss\u001b[38;5;241m.\u001b[39mappend(infos)\n",
      "File \u001b[0;32m~/hex/routines/_gates.py:55\u001b[0m, in \u001b[0;36mgates_from_HH2\u001b[0;34m(HH, step)\u001b[0m\n\u001b[1;32m     53\u001b[0m         tmp \u001b[38;5;241m=\u001b[39m yastn\u001b[38;5;241m.\u001b[39mncon([gr[\u001b[38;5;241m0\u001b[39m]\u001b[38;5;241m.\u001b[39mG0, gr[\u001b[38;5;241m0\u001b[39m]\u001b[38;5;241m.\u001b[39mG1], [(\u001b[38;5;241m-\u001b[39m\u001b[38;5;241m0\u001b[39m, \u001b[38;5;241m-\u001b[39m\u001b[38;5;241m2\u001b[39m, \u001b[38;5;241m1\u001b[39m), (\u001b[38;5;241m-\u001b[39m\u001b[38;5;241m1\u001b[39m, \u001b[38;5;241m-\u001b[39m\u001b[38;5;241m3\u001b[39m, \u001b[38;5;241m1\u001b[39m)])\n\u001b[1;32m     54\u001b[0m         G01 \u001b[38;5;241m=\u001b[39m yastn\u001b[38;5;241m.\u001b[39mtensordot(G01, tmp, axes\u001b[38;5;241m=\u001b[39m((\u001b[38;5;241m2\u001b[39m, \u001b[38;5;241m3\u001b[39m), (\u001b[38;5;241m0\u001b[39m, \u001b[38;5;241m1\u001b[39m)))\n\u001b[0;32m---> 55\u001b[0m     new_nn\u001b[38;5;241m.\u001b[39mappend(\u001b[43mpeps\u001b[49m\u001b[38;5;241;43m.\u001b[39;49m\u001b[43mgates\u001b[49m\u001b[38;5;241;43m.\u001b[39;49m\u001b[43mdecompose_nn_gate\u001b[49m\u001b[43m(\u001b[49m\u001b[43mG01\u001b[49m\u001b[43m,\u001b[49m\u001b[43m \u001b[49m\u001b[43mbd\u001b[49m\u001b[43m)\u001b[49m)\n\u001b[1;32m     57\u001b[0m \u001b[38;5;28;01mreturn\u001b[39;00m peps\u001b[38;5;241m.\u001b[39mGates(nn\u001b[38;5;241m=\u001b[39mnew_nn, local\u001b[38;5;241m=\u001b[39mnew_local)\n",
      "File \u001b[0;32m~/yastn/yastn/yastn/tn/fpeps/gates.py:59\u001b[0m, in \u001b[0;36mdecompose_nn_gate\u001b[0;34m(Gnn, bond)\u001b[0m\n\u001b[1;32m     54\u001b[0m \u001b[38;5;28;01mdef\u001b[39;00m\u001b[38;5;250m \u001b[39m\u001b[38;5;21mdecompose_nn_gate\u001b[39m(Gnn, bond\u001b[38;5;241m=\u001b[39m\u001b[38;5;28;01mNone\u001b[39;00m) \u001b[38;5;241m-\u001b[39m\u001b[38;5;241m>\u001b[39m Gate_nn:\n\u001b[1;32m     55\u001b[0m \u001b[38;5;250m    \u001b[39m\u001b[38;5;124mr\u001b[39m\u001b[38;5;124;03m\"\"\"\u001b[39;00m\n\u001b[1;32m     56\u001b[0m \u001b[38;5;124;03m    Auxiliary function cutting a two-site gate with SVD\u001b[39;00m\n\u001b[1;32m     57\u001b[0m \u001b[38;5;124;03m    into two local operators with the connecting legs.\u001b[39;00m\n\u001b[1;32m     58\u001b[0m \u001b[38;5;124;03m    \"\"\"\u001b[39;00m\n\u001b[0;32m---> 59\u001b[0m     U, S, V \u001b[38;5;241m=\u001b[39m \u001b[43mGnn\u001b[49m\u001b[38;5;241;43m.\u001b[39;49m\u001b[43msvd_with_truncation\u001b[49m\u001b[43m(\u001b[49m\u001b[43maxes\u001b[49m\u001b[38;5;241;43m=\u001b[39;49m\u001b[43m(\u001b[49m\u001b[43m(\u001b[49m\u001b[38;5;241;43m0\u001b[39;49m\u001b[43m,\u001b[49m\u001b[43m \u001b[49m\u001b[38;5;241;43m2\u001b[39;49m\u001b[43m)\u001b[49m\u001b[43m,\u001b[49m\u001b[43m \u001b[49m\u001b[43m(\u001b[49m\u001b[38;5;241;43m1\u001b[39;49m\u001b[43m,\u001b[49m\u001b[43m \u001b[49m\u001b[38;5;241;43m3\u001b[39;49m\u001b[43m)\u001b[49m\u001b[43m)\u001b[49m\u001b[43m,\u001b[49m\u001b[43m \u001b[49m\u001b[43msU\u001b[49m\u001b[38;5;241;43m=\u001b[39;49m\u001b[38;5;241;43m-\u001b[39;49m\u001b[38;5;241;43m1\u001b[39;49m\u001b[43m,\u001b[49m\u001b[43m \u001b[49m\u001b[43mtol\u001b[49m\u001b[38;5;241;43m=\u001b[39;49m\u001b[38;5;241;43m1e-14\u001b[39;49m\u001b[43m,\u001b[49m\u001b[43m \u001b[49m\u001b[43mVaxis\u001b[49m\u001b[38;5;241;43m=\u001b[39;49m\u001b[38;5;241;43m2\u001b[39;49m\u001b[43m)\u001b[49m\n\u001b[1;32m     60\u001b[0m     S \u001b[38;5;241m=\u001b[39m S\u001b[38;5;241m.\u001b[39msqrt()\n\u001b[1;32m     61\u001b[0m     \u001b[38;5;28;01mreturn\u001b[39;00m Gate_nn(S\u001b[38;5;241m.\u001b[39mbroadcast(U, axes\u001b[38;5;241m=\u001b[39m\u001b[38;5;241m2\u001b[39m), S\u001b[38;5;241m.\u001b[39mbroadcast(V, axes\u001b[38;5;241m=\u001b[39m\u001b[38;5;241m2\u001b[39m), bond\u001b[38;5;241m=\u001b[39mbond)\n",
      "File \u001b[0;32m~/yastn/yastn/yastn/tensor/linalg.py:105\u001b[0m, in \u001b[0;36msvd_with_truncation\u001b[0;34m(a, axes, sU, nU, Uaxis, Vaxis, policy, fix_signs, svd_on_cpu, tol, tol_block, D_block, D_total, truncate_multiplets, mask_f, **kwargs)\u001b[0m\n\u001b[1;32m     47\u001b[0m \u001b[38;5;250m\u001b[39m\u001b[38;5;124mr\u001b[39m\u001b[38;5;124;03m\"\"\"\u001b[39;00m\n\u001b[1;32m     48\u001b[0m \u001b[38;5;124;03mSplit tensor using exact singular value decomposition (SVD) into :math:`a = U S V`,\u001b[39;00m\n\u001b[1;32m     49\u001b[0m \u001b[38;5;124;03mwhere the columns of `U` and the rows of `V` form orthonormal bases\u001b[39;00m\n\u001b[0;32m   (...)\u001b[0m\n\u001b[1;32m    102\u001b[0m \u001b[38;5;124;03m`U`, `S`, `V`\u001b[39;00m\n\u001b[1;32m    103\u001b[0m \u001b[38;5;124;03m\"\"\"\u001b[39;00m\n\u001b[1;32m    104\u001b[0m diagnostics \u001b[38;5;241m=\u001b[39m kwargs\u001b[38;5;241m.\u001b[39mget(\u001b[38;5;124m'\u001b[39m\u001b[38;5;124mdiagonostics\u001b[39m\u001b[38;5;124m'\u001b[39m, \u001b[38;5;28;01mNone\u001b[39;00m)\n\u001b[0;32m--> 105\u001b[0m U, S, V \u001b[38;5;241m=\u001b[39m \u001b[43msvd\u001b[49m\u001b[43m(\u001b[49m\u001b[43ma\u001b[49m\u001b[43m,\u001b[49m\u001b[43m \u001b[49m\u001b[43maxes\u001b[49m\u001b[38;5;241;43m=\u001b[39;49m\u001b[43maxes\u001b[49m\u001b[43m,\u001b[49m\u001b[43m \u001b[49m\u001b[43msU\u001b[49m\u001b[38;5;241;43m=\u001b[39;49m\u001b[43msU\u001b[49m\u001b[43m,\u001b[49m\u001b[43m \u001b[49m\u001b[43mnU\u001b[49m\u001b[38;5;241;43m=\u001b[39;49m\u001b[43mnU\u001b[49m\u001b[43m,\u001b[49m\u001b[43m \u001b[49m\u001b[43mpolicy\u001b[49m\u001b[38;5;241;43m=\u001b[39;49m\u001b[43mpolicy\u001b[49m\u001b[43m,\u001b[49m\u001b[43m \u001b[49m\u001b[43mD_block\u001b[49m\u001b[38;5;241;43m=\u001b[39;49m\u001b[43mD_block\u001b[49m\u001b[43m,\u001b[49m\n\u001b[1;32m    106\u001b[0m \u001b[43m              \u001b[49m\u001b[43mdiagnostics\u001b[49m\u001b[38;5;241;43m=\u001b[39;49m\u001b[43mdiagnostics\u001b[49m\u001b[43m,\u001b[49m\u001b[43m \u001b[49m\u001b[43mfix_signs\u001b[49m\u001b[38;5;241;43m=\u001b[39;49m\u001b[43mfix_signs\u001b[49m\u001b[43m,\u001b[49m\u001b[43m \u001b[49m\u001b[43msvd_on_cpu\u001b[49m\u001b[38;5;241;43m=\u001b[39;49m\u001b[43msvd_on_cpu\u001b[49m\u001b[43m)\u001b[49m\n\u001b[1;32m    108\u001b[0m Smask \u001b[38;5;241m=\u001b[39m truncation_mask(S, tol\u001b[38;5;241m=\u001b[39mtol, tol_block\u001b[38;5;241m=\u001b[39mtol_block,\n\u001b[1;32m    109\u001b[0m                         D_block\u001b[38;5;241m=\u001b[39mD_block, D_total\u001b[38;5;241m=\u001b[39mD_total,\n\u001b[1;32m    110\u001b[0m                         truncate_multiplets\u001b[38;5;241m=\u001b[39mtruncate_multiplets,\n\u001b[1;32m    111\u001b[0m                         mask_f\u001b[38;5;241m=\u001b[39mmask_f)\n\u001b[1;32m    113\u001b[0m U, S, V \u001b[38;5;241m=\u001b[39m Smask\u001b[38;5;241m.\u001b[39mapply_mask(U, S, V, axes\u001b[38;5;241m=\u001b[39m(\u001b[38;5;241m-\u001b[39m\u001b[38;5;241m1\u001b[39m, \u001b[38;5;241m0\u001b[39m, \u001b[38;5;241m0\u001b[39m))\n",
      "File \u001b[0;32m~/yastn/yastn/yastn/tensor/linalg.py:199\u001b[0m, in \u001b[0;36msvd\u001b[0;34m(a, axes, sU, nU, compute_uv, Uaxis, Vaxis, policy, fix_signs, svd_on_cpu, **kwargs)\u001b[0m\n\u001b[1;32m    196\u001b[0m sizes \u001b[38;5;241m=\u001b[39m \u001b[38;5;28mtuple\u001b[39m(x\u001b[38;5;241m.\u001b[39msize \u001b[38;5;28;01mfor\u001b[39;00m x \u001b[38;5;129;01min\u001b[39;00m (Ustruct, Sstruct, Vstruct))\n\u001b[1;32m    198\u001b[0m \u001b[38;5;28;01mif\u001b[39;00m compute_uv \u001b[38;5;129;01mand\u001b[39;00m policy \u001b[38;5;241m==\u001b[39m \u001b[38;5;124m'\u001b[39m\u001b[38;5;124mfullrank\u001b[39m\u001b[38;5;124m'\u001b[39m:\n\u001b[0;32m--> 199\u001b[0m     Udata, Sdata, Vdata \u001b[38;5;241m=\u001b[39m \u001b[43ma\u001b[49m\u001b[38;5;241;43m.\u001b[39;49m\u001b[43mconfig\u001b[49m\u001b[38;5;241;43m.\u001b[39;49m\u001b[43mbackend\u001b[49m\u001b[38;5;241;43m.\u001b[39;49m\u001b[43msvd\u001b[49m\u001b[43m(\u001b[49m\u001b[43mdata\u001b[49m\u001b[43m,\u001b[49m\u001b[43m \u001b[49m\u001b[43mmeta\u001b[49m\u001b[43m,\u001b[49m\u001b[43m \u001b[49m\u001b[43msizes\u001b[49m\u001b[43m,\u001b[49m\u001b[43m \u001b[49m\u001b[43mdiagnostics\u001b[49m\u001b[38;5;241;43m=\u001b[39;49m\u001b[43mkwargs\u001b[49m\u001b[38;5;241;43m.\u001b[39;49m\u001b[43mget\u001b[49m\u001b[43m(\u001b[49m\u001b[38;5;124;43m'\u001b[39;49m\u001b[38;5;124;43mdiagnostics\u001b[39;49m\u001b[38;5;124;43m'\u001b[39;49m\u001b[43m,\u001b[49m\u001b[43m \u001b[49m\u001b[38;5;28;43;01mNone\u001b[39;49;00m\u001b[43m)\u001b[49m\u001b[43m)\u001b[49m\n\u001b[1;32m    200\u001b[0m \u001b[38;5;28;01melif\u001b[39;00m \u001b[38;5;129;01mnot\u001b[39;00m compute_uv \u001b[38;5;129;01mand\u001b[39;00m policy \u001b[38;5;241m==\u001b[39m \u001b[38;5;124m'\u001b[39m\u001b[38;5;124mfullrank\u001b[39m\u001b[38;5;124m'\u001b[39m:\n\u001b[1;32m    201\u001b[0m     Sdata \u001b[38;5;241m=\u001b[39m a\u001b[38;5;241m.\u001b[39mconfig\u001b[38;5;241m.\u001b[39mbackend\u001b[38;5;241m.\u001b[39msvdvals(data, meta, sizes[\u001b[38;5;241m1\u001b[39m])\n",
      "File \u001b[0;32m~/yastn/yastn/yastn/backend/backend_np.py:295\u001b[0m, in \u001b[0;36msvd\u001b[0;34m(data, meta, sizes, **kwargs)\u001b[0m\n\u001b[1;32m    293\u001b[0m Vdata \u001b[38;5;241m=\u001b[39m np\u001b[38;5;241m.\u001b[39mempty((sizes[\u001b[38;5;241m2\u001b[39m],), dtype\u001b[38;5;241m=\u001b[39mdata\u001b[38;5;241m.\u001b[39mdtype)\n\u001b[1;32m    294\u001b[0m \u001b[38;5;28;01mfor\u001b[39;00m (sl, D, slU, DU, slS, slV, DV) \u001b[38;5;129;01min\u001b[39;00m meta:\n\u001b[0;32m--> 295\u001b[0m     U, S, V \u001b[38;5;241m=\u001b[39m \u001b[43msafe_svd\u001b[49m\u001b[43m(\u001b[49m\u001b[43mdata\u001b[49m\u001b[43m[\u001b[49m\u001b[38;5;28;43mslice\u001b[39;49m\u001b[43m(\u001b[49m\u001b[38;5;241;43m*\u001b[39;49m\u001b[43msl\u001b[49m\u001b[43m)\u001b[49m\u001b[43m]\u001b[49m\u001b[38;5;241;43m.\u001b[39;49m\u001b[43mreshape\u001b[49m\u001b[43m(\u001b[49m\u001b[43mD\u001b[49m\u001b[43m)\u001b[49m\u001b[43m)\u001b[49m\n\u001b[1;32m    296\u001b[0m     Udata[\u001b[38;5;28mslice\u001b[39m(\u001b[38;5;241m*\u001b[39mslU)]\u001b[38;5;241m.\u001b[39mreshape(DU)[:] \u001b[38;5;241m=\u001b[39m U\n\u001b[1;32m    297\u001b[0m     Sdata[\u001b[38;5;28mslice\u001b[39m(\u001b[38;5;241m*\u001b[39mslS)] \u001b[38;5;241m=\u001b[39m S\n",
      "File \u001b[0;32m~/yastn/yastn/yastn/backend/backend_np.py:260\u001b[0m, in \u001b[0;36msafe_svd\u001b[0;34m(a)\u001b[0m\n\u001b[1;32m    258\u001b[0m \u001b[38;5;28;01mdef\u001b[39;00m\u001b[38;5;250m \u001b[39m\u001b[38;5;21msafe_svd\u001b[39m(a):\n\u001b[1;32m    259\u001b[0m     \u001b[38;5;28;01mtry\u001b[39;00m:\n\u001b[0;32m--> 260\u001b[0m         U, S, V \u001b[38;5;241m=\u001b[39m \u001b[43mscipy\u001b[49m\u001b[38;5;241;43m.\u001b[39;49m\u001b[43mlinalg\u001b[49m\u001b[38;5;241;43m.\u001b[39;49m\u001b[43msvd\u001b[49m\u001b[43m(\u001b[49m\u001b[43ma\u001b[49m\u001b[43m,\u001b[49m\u001b[43m \u001b[49m\u001b[43mfull_matrices\u001b[49m\u001b[38;5;241;43m=\u001b[39;49m\u001b[38;5;28;43;01mFalse\u001b[39;49;00m\u001b[43m)\u001b[49m  \u001b[38;5;66;03m# , lapack_driver='gesdd'\u001b[39;00m\n\u001b[1;32m    261\u001b[0m     \u001b[38;5;28;01mexcept\u001b[39;00m scipy\u001b[38;5;241m.\u001b[39mlinalg\u001b[38;5;241m.\u001b[39mLinAlgError:  \u001b[38;5;66;03m# pragma: no cover\u001b[39;00m\n\u001b[1;32m    262\u001b[0m         U, S, V \u001b[38;5;241m=\u001b[39m scipy\u001b[38;5;241m.\u001b[39mlinalg\u001b[38;5;241m.\u001b[39msvd(a, full_matrices\u001b[38;5;241m=\u001b[39m\u001b[38;5;28;01mFalse\u001b[39;00m, lapack_driver\u001b[38;5;241m=\u001b[39m\u001b[38;5;124m'\u001b[39m\u001b[38;5;124mgesvd\u001b[39m\u001b[38;5;124m'\u001b[39m)\n",
      "File \u001b[0;32m~/.conda/envs/yastn/lib/python3.12/site-packages/scipy/linalg/_decomp_svd.py:162\u001b[0m, in \u001b[0;36msvd\u001b[0;34m(a, full_matrices, compute_uv, overwrite_a, check_finite, lapack_driver)\u001b[0m\n\u001b[1;32m    158\u001b[0m lwork \u001b[38;5;241m=\u001b[39m _compute_lwork(gesXd_lwork, a1\u001b[38;5;241m.\u001b[39mshape[\u001b[38;5;241m0\u001b[39m], a1\u001b[38;5;241m.\u001b[39mshape[\u001b[38;5;241m1\u001b[39m],\n\u001b[1;32m    159\u001b[0m                        compute_uv\u001b[38;5;241m=\u001b[39mcompute_uv, full_matrices\u001b[38;5;241m=\u001b[39mfull_matrices)\n\u001b[1;32m    161\u001b[0m \u001b[38;5;66;03m# perform decomposition\u001b[39;00m\n\u001b[0;32m--> 162\u001b[0m u, s, v, info \u001b[38;5;241m=\u001b[39m \u001b[43mgesXd\u001b[49m\u001b[43m(\u001b[49m\u001b[43ma1\u001b[49m\u001b[43m,\u001b[49m\u001b[43m \u001b[49m\u001b[43mcompute_uv\u001b[49m\u001b[38;5;241;43m=\u001b[39;49m\u001b[43mcompute_uv\u001b[49m\u001b[43m,\u001b[49m\u001b[43m \u001b[49m\u001b[43mlwork\u001b[49m\u001b[38;5;241;43m=\u001b[39;49m\u001b[43mlwork\u001b[49m\u001b[43m,\u001b[49m\n\u001b[1;32m    163\u001b[0m \u001b[43m                      \u001b[49m\u001b[43mfull_matrices\u001b[49m\u001b[38;5;241;43m=\u001b[39;49m\u001b[43mfull_matrices\u001b[49m\u001b[43m,\u001b[49m\u001b[43m \u001b[49m\u001b[43moverwrite_a\u001b[49m\u001b[38;5;241;43m=\u001b[39;49m\u001b[43moverwrite_a\u001b[49m\u001b[43m)\u001b[49m\n\u001b[1;32m    165\u001b[0m \u001b[38;5;28;01mif\u001b[39;00m info \u001b[38;5;241m>\u001b[39m \u001b[38;5;241m0\u001b[39m:\n\u001b[1;32m    166\u001b[0m     \u001b[38;5;28;01mraise\u001b[39;00m LinAlgError(\u001b[38;5;124m\"\u001b[39m\u001b[38;5;124mSVD did not converge\u001b[39m\u001b[38;5;124m\"\u001b[39m)\n",
      "\u001b[0;31mKeyboardInterrupt\u001b[0m: "
     ]
    }
   ],
   "source": [
    "problem = \"p=5\"\n",
    "D = 8  # PEPS bond dimension\n",
    "#\n",
    "betas = angles[problem]['beta']\n",
    "gammas = angles[problem]['gamma']\n",
    "#\n",
    "# initial product state\n",
    "#\n",
    "geometry = peps.SquareLattice(dims=hex4.dims, boundary='obc')\n",
    "vectors = {site: ops.vec_x((1,) * Nloc) for site, Nloc in hex4.s2N.items()}\n",
    "psi4 = peps.product_peps(geometry, vectors)\n",
    "#\n",
    "#  run evolution\n",
    "#\n",
    "opts_svd_evol = {\"D_total\": D, \"tol\": 1e-10}\n",
    "env4 = peps.EnvNTU(psi4, which='NN+')\n",
    "#\n",
    "infoss = []\n",
    "t0 = time.time()\n",
    "for step, (gamma, beta) in enumerate(zip(gammas, betas)):\n",
    "    gates = gates_from_HH2(HHC4, gamma)\n",
    "    infos = peps.evolution_step_(env4, gates, opts_svd=opts_svd_evol, symmetrize=False)\n",
    "    infoss.append(infos)\n",
    "    gates = gates_from_HH2(HHM4, beta)\n",
    "    infos = peps.evolution_step_(env4, gates, opts_svd=opts_svd_evol, symmetrize=False)\n",
    "    Delta = peps.accumulated_truncation_error(infoss, statistics='mean')\n",
    "    print(f\"Step: {step}; Evolution time: {time.time() - t0:3.2f}; Truncation error: {Delta:0.6f}\")"
   ]
  },
  {
   "cell_type": "code",
   "execution_count": null,
   "metadata": {},
   "outputs": [
    {
     "name": "stdout",
     "output_type": "stream",
     "text": [
      "Ctmrg time: 4.272852897644043\n",
      "CTMRG_out(sweeps=1, max_dsv=nan, converged=False, max_D=8)\n",
      "Ctmrg time: 36.02344250679016\n",
      "CTMRG_out(sweeps=2, max_dsv=0.6377591798931443, converged=False, max_D=8)\n",
      "Ctmrg time: 65.38708257675171\n",
      "CTMRG_out(sweeps=3, max_dsv=0.03364462425869813, converged=False, max_D=8)\n",
      "Ctmrg time: 95.02489113807678\n",
      "CTMRG_out(sweeps=4, max_dsv=0.0005063235051286282, converged=False, max_D=8)\n",
      "Ctmrg time: 124.61877393722534\n",
      "CTMRG_out(sweeps=5, max_dsv=3.257730211457399e-05, converged=False, max_D=8)\n",
      "Ctmrg time: 154.97983598709106\n",
      "CTMRG_out(sweeps=6, max_dsv=6.23994678587907e-07, converged=True, max_D=8)\n"
     ]
    }
   ],
   "source": [
    "opts_svd = {\"D_total\": D}\n",
    "env4_ctm = peps.EnvCTM(psi4, init='eye')\n",
    "t0 = time.time()\n",
    "for info in env4_ctm.ctmrg_(max_sweeps=10, opts_svd=opts_svd, corner_tol=1e-5, iterator_step=1): #\n",
    "    print(\"Ctmrg time:\", time.time() - t0)\n",
    "    print(info)"
   ]
  },
  {
   "cell_type": "code",
   "execution_count": 36,
   "metadata": {},
   "outputs": [
    {
     "name": "stdout",
     "output_type": "stream",
     "text": [
      "Ctmrg time: 0.45688509941101074\n",
      "BP_out(sweeps=1, max_diff=np.float64(1.0121205834468923), converged=None)\n",
      "Ctmrg time: 0.9782843589782715\n",
      "BP_out(sweeps=2, max_diff=np.float64(0.39112019074261967), converged=None)\n",
      "Ctmrg time: 1.4596245288848877\n",
      "BP_out(sweeps=3, max_diff=np.float64(0.01628378160186533), converged=None)\n",
      "Ctmrg time: 1.9591248035430908\n",
      "BP_out(sweeps=4, max_diff=np.float64(0.0003889551523375502), converged=None)\n",
      "Ctmrg time: 2.7113311290740967\n",
      "BP_out(sweeps=5, max_diff=np.float64(7.2261843852377706e-06), converged=None)\n",
      "Ctmrg time: 3.218902587890625\n",
      "BP_out(sweeps=6, max_diff=np.float64(4.2721706174664415e-07), converged=None)\n",
      "Ctmrg time: 3.682129383087158\n",
      "BP_out(sweeps=7, max_diff=np.float64(3.469142316479831e-09), converged=None)\n",
      "Ctmrg time: 4.117254734039307\n",
      "BP_out(sweeps=8, max_diff=np.float64(2.7457865089129868e-11), converged=None)\n",
      "Ctmrg time: 4.55954122543335\n",
      "BP_out(sweeps=9, max_diff=np.float64(1.589288906375893e-13), converged=None)\n",
      "Ctmrg time: 5.33596396446228\n",
      "BP_out(sweeps=10, max_diff=np.float64(3.1645932221829247e-15), converged=None)\n"
     ]
    }
   ],
   "source": [
    "env4_BP = peps.EnvBP(psi4)\n",
    "t0 = time.time()\n",
    "for info in env4_BP.iterate_(max_sweeps=10, iterator_step=1): #  corner_tol=1e-5,\n",
    "    print(\"Ctmrg time:\", time.time() - t0)\n",
    "    print(info)"
   ]
  },
  {
   "cell_type": "code",
   "execution_count": 54,
   "metadata": {},
   "outputs": [
    {
     "name": "stdout",
     "output_type": "stream",
     "text": [
      "Energy for p=5: -145.6594\n"
     ]
    }
   ],
   "source": [
    "eng0, ZZ0 = measure_H_ctm(env4_ctm, HHC4)\n",
    "print(f\"Energy for {problem}: {eng0.real:0.4f}\")"
   ]
  },
  {
   "cell_type": "code",
   "execution_count": 55,
   "metadata": {},
   "outputs": [
    {
     "name": "stdout",
     "output_type": "stream",
     "text": [
      "Energy for p=5: -145.6594\n"
     ]
    }
   ],
   "source": [
    "eng3, ZZ3 = measure_H_ctm(env4_BP, HHC4)\n",
    "print(f\"Energy for {problem}: {eng0.real:0.4f}\")"
   ]
  },
  {
   "cell_type": "code",
   "execution_count": 10,
   "metadata": {},
   "outputs": [
    {
     "name": "stdout",
     "output_type": "stream",
     "text": [
      "Energy for p=3: -125.3721\n"
     ]
    }
   ],
   "source": [
    "env_mps = peps.EnvBoundaryMPS(psi4, opts_svd=opts_svd, setup='lrtb')\n",
    "eng1, ZZ1 = measure_H_mps(env_mps, HHC4)\n",
    "print(f\"Energy for {problem}: {eng1.real:0.4f}\")\n"
   ]
  },
  {
   "cell_type": "code",
   "execution_count": 12,
   "metadata": {},
   "outputs": [
    {
     "data": {
      "text/plain": [
       "np.float64(3.5933787266406725e-05)"
      ]
     },
     "execution_count": 12,
     "metadata": {},
     "output_type": "execute_result"
    }
   ],
   "source": [
    "max(abs(ZZ0[k] - ZZ1[k]) for k in ZZ0)"
   ]
  },
  {
   "cell_type": "code",
   "execution_count": 3,
   "metadata": {},
   "outputs": [],
   "source": [
    "# group spins\n",
    "hex3 = MapHex127_r3()\n",
    "ops = NSpin12(sym='dense')\n",
    "#\n",
    "# translate Hamiltonian to grouped sites\n",
    "HHC3 = hex3.group_H(HC, ops.z, ops.I)\n",
    "HHM3 = hex3.group_H(HM, ops.x, ops.I)"
   ]
  },
  {
   "cell_type": "code",
   "execution_count": 4,
   "metadata": {},
   "outputs": [],
   "source": [
    "problem = \"p=3\"\n",
    "D = 8 # PEPS bond dimension\n",
    "#\n",
    "betas = angles[problem]['beta']\n",
    "gammas = angles[problem]['gamma']\n",
    "#\n",
    "# initial product state\n",
    "#\n",
    "geometry = peps.SquareLattice(dims=hex3.dims, boundary='obc')\n",
    "vectors = {site: ops.vec_x((1,) * Nloc) for site, Nloc in hex3.s2N.items()}\n",
    "psi3 = peps.product_peps(geometry, vectors)\n"
   ]
  },
  {
   "cell_type": "code",
   "execution_count": 5,
   "metadata": {},
   "outputs": [
    {
     "name": "stdout",
     "output_type": "stream",
     "text": [
      "Step: 0; Rvolution time: 2.42; Truncation error: 0.000000\n",
      "Step: 1; Rvolution time: 6.34; Truncation error: 0.000000\n",
      "Step: 2; Rvolution time: 26.50; Truncation error: 0.000000\n"
     ]
    }
   ],
   "source": [
    "#\n",
    "#  run evolution\n",
    "#\n",
    "opts_svd_evol = {\"D_total\": D, \"tol\": 1e-10}\n",
    "env3 = peps.EnvBP(psi3, which='NN+BP')\n",
    "#\n",
    "infoss = []\n",
    "t0 = time.time()\n",
    "for step, (gamma, beta) in enumerate(zip(gammas, betas)):\n",
    "    gates = gates_from_HH(HHC3, gamma)\n",
    "    infos = peps.evolution_step_(env3, gates, opts_svd=opts_svd_evol, symmetrize=False)\n",
    "    infoss.append(infos)\n",
    "    gates = gates_from_HH(HHM3, beta)\n",
    "    infos = peps.evolution_step_(env3, gates, opts_svd=opts_svd_evol, symmetrize=False)\n",
    "    Delta = peps.accumulated_truncation_error(infoss, statistics='mean')\n",
    "    print(f\"Step: {step}; Evolution time: {time.time() - t0:3.2f}; Truncation error: {Delta:0.6f}\")"
   ]
  },
  {
   "cell_type": "code",
   "execution_count": null,
   "metadata": {},
   "outputs": [],
   "source": [
    "opts_svd = {\"D_total\":  2 * D}\n",
    "env_mps = peps.EnvBoundaryMPS(psi3, opts_svd=opts_svd, setup='tlbr')\n",
    "\n",
    "eng2, ZZ2 = measure_H_mps(env_mps, HHC3)\n",
    "print(f\"Energy for {problem}: {eng2:0.4f}\")\n"
   ]
  },
  {
   "cell_type": "code",
   "execution_count": 7,
   "metadata": {},
   "outputs": [
    {
     "name": "stdout",
     "output_type": "stream",
     "text": [
      "Energy for p=3: -125.3721\n"
     ]
    }
   ],
   "source": [
    "eng2, ZZ2 = measure_H_mps(env_mps, HHC3)\n",
    "print(f\"Energy for {problem}: {eng2:0.4f}\")"
   ]
  },
  {
   "cell_type": "code",
   "execution_count": 24,
   "metadata": {},
   "outputs": [
    {
     "data": {
      "text/plain": [
       "np.float64(3.593378726568508e-05)"
      ]
     },
     "execution_count": 24,
     "metadata": {},
     "output_type": "execute_result"
    }
   ],
   "source": [
    "max(abs(ZZ0[k] - ZZ2[k]) for k in ZZ0)"
   ]
  }
 ],
 "metadata": {
  "kernelspec": {
   "display_name": "yastn",
   "language": "python",
   "name": "python3"
  },
  "language_info": {
   "codemirror_mode": {
    "name": "ipython",
    "version": 3
   },
   "file_extension": ".py",
   "mimetype": "text/x-python",
   "name": "python",
   "nbconvert_exporter": "python",
   "pygments_lexer": "ipython3",
   "version": "3.12.8"
  }
 },
 "nbformat": 4,
 "nbformat_minor": 2
}
