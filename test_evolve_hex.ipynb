{
 "cells": [
  {
   "cell_type": "code",
   "execution_count": 8,
   "metadata": {},
   "outputs": [],
   "source": [
    "import time\n",
    "import numpy as np\n",
    "import yastn\n",
    "import yastn.tn.mps as mps\n",
    "import yastn.tn.fpeps as peps\n",
    "from routines import NSpin12, MapHex127, gates_from_HH, measure_HH"
   ]
  },
  {
   "cell_type": "code",
   "execution_count": 9,
   "metadata": {},
   "outputs": [],
   "source": [
    "# Hamiltonian\n",
    "fname = \"sherbrooke0v3.pkl\"\n",
    "data = np.load(fname, allow_pickle=True)\n",
    "HC = data[\"H\"]\n",
    "HM = {(n,): 1 for n in range(127)}\n",
    "#\n",
    "angles = {\"p=3\": {\"beta\": (0.50502, 0.35713, 0.19264),\n",
    "                  \"gamma\": (-0.14264, -0.26589, -0.34195)},\n",
    "          \"p=4\": {\"beta\": (0.54321, 0.41806, 0.28615, 0.16041),\n",
    "                  \"gamma\": (-0.12077, -0.22360, -0.29902, -0.35329)},\n",
    "          \"p=5\": {\"beta\": (0.53822, 0.44776, 0.32923, 0.23056, 0.12587),\n",
    "                  \"gamma\": (-0.11764, -0.19946, -0.268736, -0.321586, -0.34583)},}"
   ]
  },
  {
   "cell_type": "code",
   "execution_count": 10,
   "metadata": {},
   "outputs": [],
   "source": [
    "# group spins\n",
    "hex = MapHex127()\n",
    "ops = NSpin12(sym='dense')\n",
    "#\n",
    "# translate Hamiltonian to grouped sites\n",
    "HHC = hex.group_H(HC, ops.z, ops.I)\n",
    "HHM = hex.group_H(HM, ops.x, ops.I)"
   ]
  },
  {
   "cell_type": "code",
   "execution_count": 13,
   "metadata": {},
   "outputs": [
    {
     "name": "stdout",
     "output_type": "stream",
     "text": [
      "Step: 0; Rvolution time: 21.16; Truncation error: 0.000000\n",
      "Step: 1; Rvolution time: 43.29; Truncation error: 0.000000\n",
      "Step: 2; Rvolution time: 73.66; Truncation error: 0.000000\n",
      "Step: 3; Rvolution time: 120.62; Truncation error: 0.008083\n",
      "Step: 4; Rvolution time: 167.26; Truncation error: 0.028282\n"
     ]
    }
   ],
   "source": [
    "problem = \"p=5\"\n",
    "D = 8  # PEPS bond dimension\n",
    "#\n",
    "betas = angles[problem]['beta']\n",
    "gammas = angles[problem]['gamma']\n",
    "#\n",
    "# initial product state\n",
    "#\n",
    "geometry = peps.SquareLattice(dims=hex.dims, boundary='obc')\n",
    "vectors = {site: ops.vec_x((1,) * Nloc) for site, Nloc in hex.s2N.items()}\n",
    "psi = peps.product_peps(geometry, vectors)\n",
    "#\n",
    "#  run evolution\n",
    "#\n",
    "opts_svd_evol = {\"D_total\": D, \"tol\": 1e-10}\n",
    "env_ntu = peps.EnvNTU(psi, which='NN+')\n",
    "#\n",
    "infoss = []\n",
    "t0 = time.time()\n",
    "for step, (gamma, beta) in enumerate(zip(gammas, betas)):\n",
    "    gates = gates_from_HH(HHC, gamma)\n",
    "    infos = peps.evolution_step_(env_ntu, gates, opts_svd=opts_svd_evol, symmetrize=False)\n",
    "    infoss.append(infos)\n",
    "    gates = gates_from_HH(HHM, beta)\n",
    "    infos = peps.evolution_step_(env_ntu, gates, opts_svd=opts_svd_evol, symmetrize=False)\n",
    "    Delta = peps.accumulated_truncation_error(infoss, statistics='mean')\n",
    "    print(f\"Step: {step}; Rvolution time: {time.time() - t0:3.2f}; Truncation error: {Delta:0.6f}\")"
   ]
  },
  {
   "cell_type": "code",
   "execution_count": 14,
   "metadata": {},
   "outputs": [
    {
     "name": "stdout",
     "output_type": "stream",
     "text": [
      "Ctmrg time: 3.504967451095581\n",
      "CTMRG_out(sweeps=1, max_dsv=nan, converged=False, max_D=16)\n",
      "Ctmrg time: 94.56372904777527\n",
      "CTMRG_out(sweeps=2, max_dsv=0.5923716014415269, converged=False, max_D=16)\n",
      "Ctmrg time: 186.56947779655457\n",
      "CTMRG_out(sweeps=3, max_dsv=0.012007350262849228, converged=False, max_D=16)\n",
      "Ctmrg time: 280.8641617298126\n",
      "CTMRG_out(sweeps=4, max_dsv=0.0003989187690402193, converged=False, max_D=16)\n",
      "Ctmrg time: 374.5875313282013\n",
      "CTMRG_out(sweeps=5, max_dsv=5.8191063494979715e-06, converged=True, max_D=16)\n",
      "Energy for p=5: -145.6594\n"
     ]
    }
   ],
   "source": [
    "opts_svd_ctm = {\"D_total\": 2 * D}\n",
    "env_ctm = peps.EnvCTM(psi, init='eye')\n",
    "t0 = time.time()\n",
    "for info in env_ctm.ctmrg_(max_sweeps=10, opts_svd=opts_svd_ctm, corner_tol=1e-5, iterator_step=1):\n",
    "    print(\"Ctmrg time:\", time.time() - t0)\n",
    "    print(info)\n",
    "\n",
    "eng = measure_HH(env_ctm, HHC).real\n",
    "print(f\"Energy for {problem}: {eng:0.4f}\")"
   ]
  }
 ],
 "metadata": {
  "kernelspec": {
   "display_name": "yastn",
   "language": "python",
   "name": "python3"
  },
  "language_info": {
   "codemirror_mode": {
    "name": "ipython",
    "version": 3
   },
   "file_extension": ".py",
   "mimetype": "text/x-python",
   "name": "python",
   "nbconvert_exporter": "python",
   "pygments_lexer": "ipython3",
   "version": "3.12.8"
  }
 },
 "nbformat": 4,
 "nbformat_minor": 2
}
