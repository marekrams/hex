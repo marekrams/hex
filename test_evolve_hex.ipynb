{
 "cells": [
  {
   "cell_type": "code",
   "execution_count": 1,
   "metadata": {},
   "outputs": [],
   "source": [
    "import time\n",
    "import numpy as np\n",
    "import yastn\n",
    "import yastn.tn.mps as mps\n",
    "import yastn.tn.fpeps as peps\n",
    "from routines import NSpin12, MapHex127_r4, MapHex127_r3, gates_from_HH, measure_H_ctm, measure_H_mps"
   ]
  },
  {
   "cell_type": "code",
   "execution_count": 2,
   "metadata": {},
   "outputs": [],
   "source": [
    "# Hamiltonian\n",
    "fname = \"./problems/sherbrooke0v3.pkl\"\n",
    "data = np.load(fname, allow_pickle=True)\n",
    "HC = data[\"H\"]\n",
    "HM = {(n,): 1 for n in range(127)}\n",
    "#\n",
    "angles = {\"p=3\": {\"beta\": (0.50502, 0.35713, 0.19264),\n",
    "                  \"gamma\": (-0.14264, -0.26589, -0.34195)},\n",
    "          \"p=4\": {\"beta\": (0.54321, 0.41806, 0.28615, 0.16041),\n",
    "                  \"gamma\": (-0.12077, -0.22360, -0.29902, -0.35329)},\n",
    "          \"p=5\": {\"beta\": (0.53822, 0.44776, 0.32923, 0.23056, 0.12587),\n",
    "                  \"gamma\": (-0.11764, -0.19946, -0.268736, -0.321586, -0.34583)},}"
   ]
  },
  {
   "cell_type": "code",
   "execution_count": 3,
   "metadata": {},
   "outputs": [],
   "source": [
    "# group spins\n",
    "hex4 = MapHex127_r4()\n",
    "ops = NSpin12(sym='dense')\n",
    "#\n",
    "# translate Hamiltonian to grouped sites\n",
    "HHC4 = hex4.group_H(HC, ops.z, ops.I)\n",
    "HHM4 = hex4.group_H(HM, ops.x, ops.I)"
   ]
  },
  {
   "cell_type": "code",
   "execution_count": 4,
   "metadata": {},
   "outputs": [
    {
     "name": "stdout",
     "output_type": "stream",
     "text": [
      "Step: 0; Evolution time: 2.08; Truncation error: 0.000000\n",
      "Step: 1; Evolution time: 6.00; Truncation error: 0.000000\n",
      "Step: 2; Evolution time: 25.61; Truncation error: 0.000000\n",
      "Step: 3; Evolution time: 74.45; Truncation error: 0.008083\n",
      "Step: 4; Evolution time: 136.25; Truncation error: 0.028282\n"
     ]
    }
   ],
   "source": [
    "problem = \"p=5\"\n",
    "D = 8  # PEPS bond dimension\n",
    "#\n",
    "betas = angles[problem]['beta']\n",
    "gammas = angles[problem]['gamma']\n",
    "#\n",
    "# initial product state\n",
    "#\n",
    "geometry = peps.SquareLattice(dims=hex4.dims, boundary='obc')\n",
    "vectors = {site: ops.vec_x((1,) * Nloc) for site, Nloc in hex4.s2N.items()}\n",
    "psi4 = peps.product_peps(geometry, vectors)\n",
    "#\n",
    "#  run evolution\n",
    "#\n",
    "opts_svd_evol = {\"D_total\": D, \"tol\": 1e-10}\n",
    "env4 = peps.EnvNTU(psi4, which='NN+')\n",
    "#\n",
    "infoss = []\n",
    "t0 = time.time()\n",
    "for step, (gamma, beta) in enumerate(zip(gammas, betas)):\n",
    "    gates = gates_from_HH(HHC4, gamma)\n",
    "    infos = peps.evolution_step_(env4, gates, opts_svd=opts_svd_evol, symmetrize=False)\n",
    "    infoss.append(infos)\n",
    "    gates = gates_from_HH(HHM4, beta)\n",
    "    infos = peps.evolution_step_(env4, gates, opts_svd=opts_svd_evol, symmetrize=False)\n",
    "    Delta = peps.accumulated_truncation_error(infoss, statistics='mean')\n",
    "    print(f\"Step: {step}; Evolution time: {time.time() - t0:3.2f}; Truncation error: {Delta:0.6f}\")"
   ]
  },
  {
   "cell_type": "code",
   "execution_count": null,
   "metadata": {},
   "outputs": [
    {
     "name": "stdout",
     "output_type": "stream",
     "text": [
      "Ctmrg time: 4.272852897644043\n",
      "CTMRG_out(sweeps=1, max_dsv=nan, converged=False, max_D=8)\n",
      "Ctmrg time: 36.02344250679016\n",
      "CTMRG_out(sweeps=2, max_dsv=0.6377591798931443, converged=False, max_D=8)\n",
      "Ctmrg time: 65.38708257675171\n",
      "CTMRG_out(sweeps=3, max_dsv=0.03364462425869813, converged=False, max_D=8)\n",
      "Ctmrg time: 95.02489113807678\n",
      "CTMRG_out(sweeps=4, max_dsv=0.0005063235051286282, converged=False, max_D=8)\n",
      "Ctmrg time: 124.61877393722534\n",
      "CTMRG_out(sweeps=5, max_dsv=3.257730211457399e-05, converged=False, max_D=8)\n",
      "Ctmrg time: 154.97983598709106\n",
      "CTMRG_out(sweeps=6, max_dsv=6.23994678587907e-07, converged=True, max_D=8)\n"
     ]
    }
   ],
   "source": [
    "opts_svd = {\"D_total\": D}\n",
    "env4_ctm = peps.EnvCTM(psi4, init='eye')\n",
    "t0 = time.time()\n",
    "for info in env4_ctm.ctmrg_(max_sweeps=10, opts_svd=opts_svd, corner_tol=1e-5, iterator_step=1): #\n",
    "    print(\"Ctmrg time:\", time.time() - t0)\n",
    "    print(info)"
   ]
  },
  {
   "cell_type": "code",
   "execution_count": 36,
   "metadata": {},
   "outputs": [
    {
     "name": "stdout",
     "output_type": "stream",
     "text": [
      "Ctmrg time: 0.45688509941101074\n",
      "LBP_out(sweeps=1, max_diff=np.float64(1.0121205834468923), converged=None)\n",
      "Ctmrg time: 0.9782843589782715\n",
      "LBP_out(sweeps=2, max_diff=np.float64(0.39112019074261967), converged=None)\n",
      "Ctmrg time: 1.4596245288848877\n",
      "LBP_out(sweeps=3, max_diff=np.float64(0.01628378160186533), converged=None)\n",
      "Ctmrg time: 1.9591248035430908\n",
      "LBP_out(sweeps=4, max_diff=np.float64(0.0003889551523375502), converged=None)\n",
      "Ctmrg time: 2.7113311290740967\n",
      "LBP_out(sweeps=5, max_diff=np.float64(7.2261843852377706e-06), converged=None)\n",
      "Ctmrg time: 3.218902587890625\n",
      "LBP_out(sweeps=6, max_diff=np.float64(4.2721706174664415e-07), converged=None)\n",
      "Ctmrg time: 3.682129383087158\n",
      "LBP_out(sweeps=7, max_diff=np.float64(3.469142316479831e-09), converged=None)\n",
      "Ctmrg time: 4.117254734039307\n",
      "LBP_out(sweeps=8, max_diff=np.float64(2.7457865089129868e-11), converged=None)\n",
      "Ctmrg time: 4.55954122543335\n",
      "LBP_out(sweeps=9, max_diff=np.float64(1.589288906375893e-13), converged=None)\n",
      "Ctmrg time: 5.33596396446228\n",
      "LBP_out(sweeps=10, max_diff=np.float64(3.1645932221829247e-15), converged=None)\n"
     ]
    }
   ],
   "source": [
    "env4_lbp = peps.EnvLBP(psi4)\n",
    "t0 = time.time()\n",
    "for info in env4_lbp.lbp_(max_sweeps=10, iterator_step=1): #  corner_tol=1e-5,\n",
    "    print(\"Ctmrg time:\", time.time() - t0)\n",
    "    print(info)"
   ]
  },
  {
   "cell_type": "code",
   "execution_count": 54,
   "metadata": {},
   "outputs": [
    {
     "name": "stdout",
     "output_type": "stream",
     "text": [
      "Energy for p=5: -145.6594\n"
     ]
    }
   ],
   "source": [
    "eng0, ZZ0 = measure_H_ctm(env4_ctm, HHC4)\n",
    "print(f\"Energy for {problem}: {eng0.real:0.4f}\")"
   ]
  },
  {
   "cell_type": "code",
   "execution_count": 55,
   "metadata": {},
   "outputs": [
    {
     "name": "stdout",
     "output_type": "stream",
     "text": [
      "Energy for p=5: -145.6594\n"
     ]
    }
   ],
   "source": [
    "eng3, ZZ3 = measure_H_ctm(env4_lbp, HHC4)\n",
    "print(f\"Energy for {problem}: {eng0.real:0.4f}\")"
   ]
  },
  {
   "cell_type": "code",
   "execution_count": 10,
   "metadata": {},
   "outputs": [
    {
     "name": "stdout",
     "output_type": "stream",
     "text": [
      "Energy for p=3: -125.3721\n"
     ]
    }
   ],
   "source": [
    "env_mps = peps.EnvBoundaryMPS(psi4, opts_svd=opts_svd, setup='lrtb')\n",
    "eng1, ZZ1 = measure_H_mps(env_mps, HHC4)\n",
    "print(f\"Energy for {problem}: {eng1.real:0.4f}\")\n"
   ]
  },
  {
   "cell_type": "code",
   "execution_count": 12,
   "metadata": {},
   "outputs": [
    {
     "data": {
      "text/plain": [
       "np.float64(3.5933787266406725e-05)"
      ]
     },
     "execution_count": 12,
     "metadata": {},
     "output_type": "execute_result"
    }
   ],
   "source": [
    "max(abs(ZZ0[k] - ZZ1[k]) for k in ZZ0)"
   ]
  },
  {
   "cell_type": "code",
   "execution_count": 3,
   "metadata": {},
   "outputs": [],
   "source": [
    "# group spins\n",
    "hex3 = MapHex127_r3()\n",
    "ops = NSpin12(sym='dense')\n",
    "#\n",
    "# translate Hamiltonian to grouped sites\n",
    "HHC3 = hex3.group_H(HC, ops.z, ops.I)\n",
    "HHM3 = hex3.group_H(HM, ops.x, ops.I)"
   ]
  },
  {
   "cell_type": "code",
   "execution_count": 4,
   "metadata": {},
   "outputs": [],
   "source": [
    "problem = \"p=3\"\n",
    "D = 8 # PEPS bond dimension\n",
    "#\n",
    "betas = angles[problem]['beta']\n",
    "gammas = angles[problem]['gamma']\n",
    "#\n",
    "# initial product state\n",
    "#\n",
    "geometry = peps.SquareLattice(dims=hex3.dims, boundary='obc')\n",
    "vectors = {site: ops.vec_x((1,) * Nloc) for site, Nloc in hex3.s2N.items()}\n",
    "psi3 = peps.product_peps(geometry, vectors)\n"
   ]
  },
  {
   "cell_type": "code",
   "execution_count": 5,
   "metadata": {},
   "outputs": [
    {
     "name": "stdout",
     "output_type": "stream",
     "text": [
      "Step: 0; Rvolution time: 2.42; Truncation error: 0.000000\n",
      "Step: 1; Rvolution time: 6.34; Truncation error: 0.000000\n",
      "Step: 2; Rvolution time: 26.50; Truncation error: 0.000000\n"
     ]
    }
   ],
   "source": [
    "#\n",
    "#  run evolution\n",
    "#\n",
    "opts_svd_evol = {\"D_total\": D, \"tol\": 1e-10}\n",
    "env3 = peps.EnvLBP(psi3, which='NN+LBP')\n",
    "#\n",
    "infoss = []\n",
    "t0 = time.time()\n",
    "for step, (gamma, beta) in enumerate(zip(gammas, betas)):\n",
    "    gates = gates_from_HH(HHC3, gamma)\n",
    "    infos = peps.evolution_step_(env3, gates, opts_svd=opts_svd_evol, symmetrize=False)\n",
    "    infoss.append(infos)\n",
    "    gates = gates_from_HH(HHM3, beta)\n",
    "    infos = peps.evolution_step_(env3, gates, opts_svd=opts_svd_evol, symmetrize=False)\n",
    "    Delta = peps.accumulated_truncation_error(infoss, statistics='mean')\n",
    "    print(f\"Step: {step}; Evolution time: {time.time() - t0:3.2f}; Truncation error: {Delta:0.6f}\")"
   ]
  },
  {
   "cell_type": "code",
   "execution_count": null,
   "metadata": {},
   "outputs": [],
   "source": [
    "opts_svd = {\"D_total\":  2 * D}\n",
    "env_mps = peps.EnvBoundaryMPS(psi3, opts_svd=opts_svd, setup='tlbr')\n",
    "\n",
    "eng2, ZZ2 = measure_H_mps(env_mps, HHC3)\n",
    "print(f\"Energy for {problem}: {eng2:0.4f}\")\n"
   ]
  },
  {
   "cell_type": "code",
   "execution_count": 7,
   "metadata": {},
   "outputs": [
    {
     "name": "stdout",
     "output_type": "stream",
     "text": [
      "Energy for p=3: -125.3721\n"
     ]
    }
   ],
   "source": [
    "eng2, ZZ2 = measure_H_mps(env_mps, HHC3)\n",
    "print(f\"Energy for {problem}: {eng2:0.4f}\")"
   ]
  },
  {
   "cell_type": "code",
   "execution_count": 24,
   "metadata": {},
   "outputs": [
    {
     "data": {
      "text/plain": [
       "np.float64(3.593378726568508e-05)"
      ]
     },
     "execution_count": 24,
     "metadata": {},
     "output_type": "execute_result"
    }
   ],
   "source": [
    "max(abs(ZZ0[k] - ZZ2[k]) for k in ZZ0)"
   ]
  }
 ],
 "metadata": {
  "kernelspec": {
   "display_name": "yastn",
   "language": "python",
   "name": "python3"
  },
  "language_info": {
   "codemirror_mode": {
    "name": "ipython",
    "version": 3
   },
   "file_extension": ".py",
   "mimetype": "text/x-python",
   "name": "python",
   "nbconvert_exporter": "python",
   "pygments_lexer": "ipython3",
   "version": "3.12.8"
  }
 },
 "nbformat": 4,
 "nbformat_minor": 2
}
