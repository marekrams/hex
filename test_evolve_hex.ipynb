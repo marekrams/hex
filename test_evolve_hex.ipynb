{
 "cells": [
  {
   "cell_type": "code",
   "execution_count": 1,
   "metadata": {},
   "outputs": [],
   "source": [
    "import time\n",
    "import numpy as np\n",
    "import yastn\n",
    "import yastn.tn.mps as mps\n",
    "import yastn.tn.fpeps as peps\n",
    "from routines import NSpin12, MapHex127_r4, MapHex127_r3, gates_from_HH, gates_from_HH2, measure_H_ctm, measure_H_mps"
   ]
  },
  {
   "cell_type": "code",
   "execution_count": 2,
   "metadata": {},
   "outputs": [],
   "source": [
    "fname = \"/home/marek/hex/problems/transfer_Hamiltonian_ibm_kyiv_0_angles_16_0_p_20.pkl\"\n",
    "data = np.load(fname, allow_pickle=True)"
   ]
  },
  {
   "cell_type": "code",
   "execution_count": 3,
   "metadata": {},
   "outputs": [],
   "source": [
    "# Hamiltonian\n",
    "fname = \"./problems/sherbrooke0v3.pkl\"\n",
    "data = np.load(fname, allow_pickle=True)\n",
    "HC = data[\"H\"]\n",
    "HM = {(n,): 1 for n in range(127)}\n",
    "#\n",
    "angles = {\"p=3\": {\"beta\": (0.50502, 0.35713, 0.19264),\n",
    "                  \"gamma\": (-0.14264, -0.26589, -0.34195)},\n",
    "          \"p=4\": {\"beta\": (0.54321, 0.41806, 0.28615, 0.16041),\n",
    "                  \"gamma\": (-0.12077, -0.22360, -0.29902, -0.35329)},\n",
    "          \"p=5\": {\"beta\": (0.53822, 0.44776, 0.32923, 0.23056, 0.12587),\n",
    "                  \"gamma\": (-0.11764, -0.19946, -0.268736, -0.321586, -0.34583)},}"
   ]
  },
  {
   "cell_type": "code",
   "execution_count": 4,
   "metadata": {},
   "outputs": [],
   "source": [
    "# group spins\n",
    "hex4 = MapHex127_r4()\n",
    "ops = NSpin12(sym='dense')\n",
    "#\n",
    "# translate Hamiltonian to grouped sites\n",
    "HHC4 = hex4.group_H(HC, ops.z, ops.I)\n",
    "HHM4 = hex4.group_H(HM, ops.x, ops.I)"
   ]
  },
  {
   "cell_type": "code",
   "execution_count": 7,
   "metadata": {},
   "outputs": [],
   "source": [
    "g1 = gates_from_HH(HHC4, 1)\n",
    "g2 = gates_from_HH2(HHC4, 1)"
   ]
  },
  {
   "cell_type": "code",
   "execution_count": 8,
   "metadata": {},
   "outputs": [
    {
     "data": {
      "text/plain": [
       "45"
      ]
     },
     "execution_count": 8,
     "metadata": {},
     "output_type": "execute_result"
    }
   ],
   "source": [
    "len(g2.nn)"
   ]
  },
  {
   "cell_type": "code",
   "execution_count": 9,
   "metadata": {},
   "outputs": [
    {
     "name": "stdout",
     "output_type": "stream",
     "text": [
      "Step: 0; Evolution time: 8.77; Truncation error: 0.000000\n",
      "Step: 1; Evolution time: 18.04; Truncation error: 0.000000\n",
      "Step: 2; Evolution time: 28.00; Truncation error: 0.000000\n",
      "Step: 3; Evolution time: 52.77; Truncation error: 0.005804\n",
      "Step: 4; Evolution time: 80.96; Truncation error: 0.019145\n"
     ]
    }
   ],
   "source": [
    "problem = \"p=5\"\n",
    "D = 8  # PEPS bond dimension\n",
    "#\n",
    "betas = angles[problem]['beta']\n",
    "gammas = angles[problem]['gamma']\n",
    "#\n",
    "# initial product state\n",
    "#\n",
    "geometry = peps.SquareLattice(dims=hex4.dims, boundary='obc')\n",
    "vectors = {site: ops.vec_x((1,) * Nloc) for site, Nloc in hex4.s2N.items()}\n",
    "psi4 = peps.product_peps(geometry, vectors)\n",
    "#\n",
    "#  run evolution\n",
    "#\n",
    "opts_svd_evol = {\"D_total\": D, \"tol\": 1e-10}\n",
    "env4 = peps.EnvNTU(psi4, which='NN+')\n",
    "#\n",
    "infoss = []\n",
    "t0 = time.time()\n",
    "for step, (gamma, beta) in enumerate(zip(gammas, betas)):\n",
    "    gates = gates_from_HH2(HHC4, gamma)\n",
    "    infos = peps.evolution_step_(env4, gates, opts_svd=opts_svd_evol, symmetrize=False)\n",
    "    infoss.append(infos)\n",
    "    gates = gates_from_HH2(HHM4, beta)\n",
    "    infos = peps.evolution_step_(env4, gates, opts_svd=opts_svd_evol, symmetrize=False)\n",
    "    Delta = peps.accumulated_truncation_error(infoss, statistics='mean')\n",
    "    print(f\"Step: {step}; Evolution time: {time.time() - t0:3.2f}; Truncation error: {Delta:0.6f}\")"
   ]
  },
  {
   "cell_type": "code",
   "execution_count": 10,
   "metadata": {},
   "outputs": [
    {
     "name": "stdout",
     "output_type": "stream",
     "text": [
      "Ctmrg time: 1.766716480255127\n",
      "CTMRG_out(sweeps=1, max_dsv=nan, converged=False, max_D=8)\n",
      "Ctmrg time: 23.074958324432373\n",
      "CTMRG_out(sweeps=2, max_dsv=0.6624171271641824, converged=False, max_D=8)\n",
      "Ctmrg time: 45.10183572769165\n",
      "CTMRG_out(sweeps=3, max_dsv=0.0280115030023803, converged=False, max_D=8)\n",
      "Ctmrg time: 66.8723361492157\n",
      "CTMRG_out(sweeps=4, max_dsv=0.0005280590610317658, converged=False, max_D=8)\n",
      "Ctmrg time: 87.85365891456604\n",
      "CTMRG_out(sweeps=5, max_dsv=5.409021270875622e-06, converged=True, max_D=8)\n"
     ]
    }
   ],
   "source": [
    "opts_svd = {\"D_total\": D}\n",
    "env4_ctm = peps.EnvCTM(psi4, init='eye')\n",
    "t0 = time.time()\n",
    "for info in env4_ctm.ctmrg_(max_sweeps=10, opts_svd=opts_svd, corner_tol=1e-5, iterator_step=1, method='2site'): #\n",
    "    print(\"Ctmrg time:\", time.time() - t0)\n",
    "    print(info)"
   ]
  },
  {
   "cell_type": "code",
   "execution_count": 36,
   "metadata": {},
   "outputs": [
    {
     "name": "stdout",
     "output_type": "stream",
     "text": [
      "Ctmrg time: 0.45688509941101074\n",
      "BP_out(sweeps=1, max_diff=np.float64(1.0121205834468923), converged=None)\n",
      "Ctmrg time: 0.9782843589782715\n",
      "BP_out(sweeps=2, max_diff=np.float64(0.39112019074261967), converged=None)\n",
      "Ctmrg time: 1.4596245288848877\n",
      "BP_out(sweeps=3, max_diff=np.float64(0.01628378160186533), converged=None)\n",
      "Ctmrg time: 1.9591248035430908\n",
      "BP_out(sweeps=4, max_diff=np.float64(0.0003889551523375502), converged=None)\n",
      "Ctmrg time: 2.7113311290740967\n",
      "BP_out(sweeps=5, max_diff=np.float64(7.2261843852377706e-06), converged=None)\n",
      "Ctmrg time: 3.218902587890625\n",
      "BP_out(sweeps=6, max_diff=np.float64(4.2721706174664415e-07), converged=None)\n",
      "Ctmrg time: 3.682129383087158\n",
      "BP_out(sweeps=7, max_diff=np.float64(3.469142316479831e-09), converged=None)\n",
      "Ctmrg time: 4.117254734039307\n",
      "BP_out(sweeps=8, max_diff=np.float64(2.7457865089129868e-11), converged=None)\n",
      "Ctmrg time: 4.55954122543335\n",
      "BP_out(sweeps=9, max_diff=np.float64(1.589288906375893e-13), converged=None)\n",
      "Ctmrg time: 5.33596396446228\n",
      "BP_out(sweeps=10, max_diff=np.float64(3.1645932221829247e-15), converged=None)\n"
     ]
    }
   ],
   "source": [
    "env4_BP = peps.EnvBP(psi4)\n",
    "t0 = time.time()\n",
    "for info in env4_BP.iterate_(max_sweeps=10, iterator_step=1): #  corner_tol=1e-5,\n",
    "    print(\"Ctmrg time:\", time.time() - t0)\n",
    "    print(info)"
   ]
  },
  {
   "cell_type": "code",
   "execution_count": 54,
   "metadata": {},
   "outputs": [
    {
     "name": "stdout",
     "output_type": "stream",
     "text": [
      "Energy for p=5: -145.6594\n"
     ]
    }
   ],
   "source": [
    "eng0, ZZ0 = measure_H_ctm(env4_ctm, HHC4)\n",
    "print(f\"Energy for {problem}: {eng0.real:0.4f}\")"
   ]
  },
  {
   "cell_type": "code",
   "execution_count": 55,
   "metadata": {},
   "outputs": [
    {
     "name": "stdout",
     "output_type": "stream",
     "text": [
      "Energy for p=5: -145.6594\n"
     ]
    }
   ],
   "source": [
    "eng3, ZZ3 = measure_H_ctm(env4_BP, HHC4)\n",
    "print(f\"Energy for {problem}: {eng0.real:0.4f}\")"
   ]
  },
  {
   "cell_type": "code",
   "execution_count": 10,
   "metadata": {},
   "outputs": [
    {
     "name": "stdout",
     "output_type": "stream",
     "text": [
      "Energy for p=3: -125.3721\n"
     ]
    }
   ],
   "source": [
    "env_mps = peps.EnvBoundaryMPS(psi4, opts_svd=opts_svd, setup='lrtb')\n",
    "eng1, ZZ1 = measure_H_mps(env_mps, HHC4)\n",
    "print(f\"Energy for {problem}: {eng1.real:0.4f}\")\n"
   ]
  },
  {
   "cell_type": "code",
   "execution_count": 12,
   "metadata": {},
   "outputs": [
    {
     "data": {
      "text/plain": [
       "np.float64(3.5933787266406725e-05)"
      ]
     },
     "execution_count": 12,
     "metadata": {},
     "output_type": "execute_result"
    }
   ],
   "source": [
    "max(abs(ZZ0[k] - ZZ1[k]) for k in ZZ0)"
   ]
  },
  {
   "cell_type": "code",
   "execution_count": 4,
   "metadata": {},
   "outputs": [],
   "source": [
    "# group spins\n",
    "hex3 = MapHex127_r3()\n",
    "ops = NSpin12(sym='dense')\n",
    "#\n",
    "# translate Hamiltonian to grouped sites\n",
    "HHC3 = hex3.group_H(HC, ops.z, ops.I)\n",
    "HHM3 = hex3.group_H(HM, ops.x, ops.I)"
   ]
  },
  {
   "cell_type": "code",
   "execution_count": 5,
   "metadata": {},
   "outputs": [],
   "source": [
    "problem = \"p=3\"\n",
    "D = 4 # PEPS bond dimension\n",
    "#\n",
    "betas = angles[problem]['beta']\n",
    "gammas = angles[problem]['gamma']\n",
    "#\n",
    "# initial product state\n",
    "#\n",
    "geometry = peps.SquareLattice(dims=hex3.dims, boundary='obc')\n",
    "vectors = {site: ops.vec_x((1,) * Nloc) for site, Nloc in hex3.s2N.items()}\n",
    "psi3 = peps.product_peps(geometry, vectors)\n"
   ]
  },
  {
   "cell_type": "code",
   "execution_count": 6,
   "metadata": {},
   "outputs": [
    {
     "name": "stdout",
     "output_type": "stream",
     "text": [
      "Step: 0; Evolution time: 11.47; Truncation error: 0.000000\n",
      "Step: 1; Evolution time: 26.18; Truncation error: 0.000000\n",
      "Step: 2; Evolution time: 44.99; Truncation error: 0.047825\n"
     ]
    }
   ],
   "source": [
    "#\n",
    "#  run evolution\n",
    "#\n",
    "opts_svd_evol = {\"D_total\": D, \"tol\": 1e-10}\n",
    "env3 = peps.EnvBP(psi3, which='NN+BP')\n",
    "#\n",
    "infoss = []\n",
    "t0 = time.time()\n",
    "for step, (gamma, beta) in enumerate(zip(gammas, betas)):\n",
    "    gates = gates_from_HH(HHC3, gamma)\n",
    "    infos = peps.evolution_step_(env3, gates, opts_svd=opts_svd_evol, symmetrize=False)\n",
    "    infoss.append(infos)\n",
    "    gates = gates_from_HH(HHM3, beta)\n",
    "    infos = peps.evolution_step_(env3, gates, opts_svd=opts_svd_evol, symmetrize=False)\n",
    "    Delta = peps.accumulated_truncation_error(infoss, statistics='mean')\n",
    "    print(f\"Step: {step}; Evolution time: {time.time() - t0:3.2f}; Truncation error: {Delta:0.6f}\")"
   ]
  },
  {
   "cell_type": "code",
   "execution_count": 7,
   "metadata": {},
   "outputs": [
    {
     "name": "stdout",
     "output_type": "stream",
     "text": [
      "Energy for p=3: -126.0892\n"
     ]
    }
   ],
   "source": [
    "opts_svd = {\"D_total\":  2 * D}\n",
    "env_mps = peps.EnvBoundaryMPS(psi3, opts_svd=opts_svd, setup='tlbr')\n",
    "\n",
    "eng2, ZZ2 = measure_H_mps(env_mps, HHC3)\n",
    "print(f\"Energy for {problem}: {eng2:0.4f}\")\n"
   ]
  },
  {
   "cell_type": "code",
   "execution_count": 9,
   "metadata": {},
   "outputs": [
    {
     "name": "stdout",
     "output_type": "stream",
     "text": [
      "Energy for p=3: -126.0892\n"
     ]
    }
   ],
   "source": [
    "eng2, ZZ2 = measure_H_mps(env_mps, HHC3)\n",
    "print(f\"Energy for {problem}: {eng2:0.4f}\")"
   ]
  },
  {
   "cell_type": "code",
   "execution_count": 8,
   "metadata": {},
   "outputs": [
    {
     "name": "stdout",
     "output_type": "stream",
     "text": [
      "Ctmrg time: 0.4672582149505615\n",
      "CTMRG_out(sweeps=1, max_dsv=nan, converged=False, max_D=4)\n",
      "Ctmrg time: 1.1203689575195312\n",
      "CTMRG_out(sweeps=2, max_dsv=0.6345305288447942, converged=False, max_D=4)\n",
      "Ctmrg time: 1.8159947395324707\n",
      "CTMRG_out(sweeps=3, max_dsv=0.3441671333617585, converged=False, max_D=4)\n",
      "Ctmrg time: 2.562283754348755\n",
      "CTMRG_out(sweeps=4, max_dsv=0.03873754651148224, converged=False, max_D=4)\n",
      "Ctmrg time: 3.4664809703826904\n",
      "CTMRG_out(sweeps=5, max_dsv=0.0045875326221407825, converged=False, max_D=4)\n",
      "Ctmrg time: 4.149161100387573\n",
      "CTMRG_out(sweeps=6, max_dsv=1.8889862338900372e-06, converged=True, max_D=4)\n"
     ]
    }
   ],
   "source": [
    "opts_svd = {\"D_total\": D}\n",
    "env3_ctm = peps.EnvCTM(psi3, init='eye')\n",
    "t0 = time.time()\n",
    "for info in env3_ctm.ctmrg_(max_sweeps=10, opts_svd=opts_svd, corner_tol=1e-5, iterator_step=1, method='hex'): #\n",
    "    print(\"Ctmrg time:\", time.time() - t0)\n",
    "    print(info)"
   ]
  },
  {
   "cell_type": "code",
   "execution_count": 10,
   "metadata": {},
   "outputs": [
    {
     "name": "stdout",
     "output_type": "stream",
     "text": [
      "Energy for p=3: -126.0889\n"
     ]
    }
   ],
   "source": [
    "eng4, ZZ4 = measure_H_ctm(env3_ctm, HHC3)\n",
    "print(f\"Energy for {problem}: {eng4.real:0.4f}\")"
   ]
  },
  {
   "cell_type": "code",
   "execution_count": 8,
   "metadata": {},
   "outputs": [
    {
     "name": "stdout",
     "output_type": "stream",
     "text": [
      "(4, 4)\n",
      "(4, 4)\n",
      "(4, 4)\n",
      "(4, 4)\n",
      "(4, 1, 4)\n",
      "(4, 16, 4)\n",
      "(4, 16, 4)\n",
      "(4, 16, 4)\n"
     ]
    },
    {
     "data": {
      "text/plain": [
       "(4, 16, 8)"
      ]
     },
     "execution_count": 8,
     "metadata": {},
     "output_type": "execute_result"
    }
   ],
   "source": [
    "print(env3_ctm[3, 4].tl.get_shape())\n",
    "print(env3_ctm[3, 4].bl.get_shape())\n",
    "print(env3_ctm[3, 4].tr.get_shape())\n",
    "print(env3_ctm[3, 4].br.get_shape())\n",
    "print(env3_ctm[3, 4].t.get_shape())\n",
    "print(env3_ctm[3, 4].b.get_shape())\n",
    "print(env3_ctm[3, 4].l.get_shape())\n",
    "print(env3_ctm[3, 4].r.get_shape())\n",
    "env3_ctm.psi.ket[3, 4].get_shape()"
   ]
  },
  {
   "cell_type": "code",
   "execution_count": 9,
   "metadata": {},
   "outputs": [],
   "source": [
    "from itertools import product\n",
    "inds = {site: [pp for pp in product(*([[-1, 1]] * Nloc))] for site, Nloc in hex3.s2N.items()}\n",
    "vecs = {site: [ops.vec_z(pp) for pp in ind] for site, ind in inds.items()}\n",
    "opss = {site: [yastn.tensordot(vv, vv.conj(), axes=((), ())) for vv in vvs] for site, vvs in vecs.items()}\n",
    "pros = {site: [env3.measure_1site(op, site) for op in ops] for site, ops in opss.items()}\n"
   ]
  },
  {
   "cell_type": "code",
   "execution_count": 10,
   "metadata": {},
   "outputs": [],
   "source": [
    "pros = {site: [env3.measure_1site(op, site) for op in ops] for site, ops in opss.items()}"
   ]
  },
  {
   "cell_type": "code",
   "execution_count": 13,
   "metadata": {},
   "outputs": [],
   "source": [
    "out, probability = env3_ctm.sample(projectors=opss, return_probabilities=True, number=10)"
   ]
  },
  {
   "cell_type": "code",
   "execution_count": 14,
   "metadata": {},
   "outputs": [
    {
     "data": {
      "text/plain": [
       "[np.float64(3.9144281465918965e-25),\n",
       " np.float64(5.753106045263758e-21),\n",
       " np.float64(1.6377032701773157e-26),\n",
       " np.float64(8.518025107429701e-26),\n",
       " np.float64(4.746158691891664e-25),\n",
       " np.float64(9.041426146130556e-25),\n",
       " np.float64(5.514766883537307e-25),\n",
       " np.float64(5.172223141931077e-27),\n",
       " np.float64(6.692770550429099e-21),\n",
       " np.float64(1.0798818014551618e-18)]"
      ]
     },
     "execution_count": 14,
     "metadata": {},
     "output_type": "execute_result"
    }
   ],
   "source": [
    "probability"
   ]
  },
  {
   "cell_type": "code",
   "execution_count": 15,
   "metadata": {},
   "outputs": [
    {
     "data": {
      "text/plain": [
       "{Site(nx=0, ny=0): [30, 25, 8, 26, 19, 10, 9, 31, 8, 24],\n",
       " Site(nx=1, ny=0): [7, 7, 28, 7, 5, 25, 7, 5, 7, 7],\n",
       " Site(nx=2, ny=0): [10, 30, 27, 31, 4, 30, 31, 31, 26, 30],\n",
       " Site(nx=3, ny=0): [27, 20, 11, 11, 11, 13, 10, 27, 11, 11],\n",
       " Site(nx=4, ny=0): [16, 0, 17, 0, 17, 14, 12, 16, 16, 17],\n",
       " Site(nx=5, ny=0): [9, 19, 27, 25, 19, 23, 7, 1, 7, 19],\n",
       " Site(nx=6, ny=0): [3, 3, 2, 3, 3, 2, 3, 3, 2, 3],\n",
       " Site(nx=0, ny=1): [7, 6, 5, 2, 7, 2, 7, 7, 3, 5],\n",
       " Site(nx=1, ny=1): [2, 2, 1, 3, 1, 1, 2, 1, 3, 1],\n",
       " Site(nx=2, ny=1): [2, 2, 0, 2, 0, 2, 2, 0, 0, 2],\n",
       " Site(nx=3, ny=1): [2, 2, 1, 1, 0, 3, 3, 0, 1, 0],\n",
       " Site(nx=4, ny=1): [5, 5, 0, 1, 6, 5, 0, 7, 7, 4],\n",
       " Site(nx=5, ny=1): [2, 1, 0, 2, 1, 2, 1, 2, 2, 0],\n",
       " Site(nx=6, ny=1): [3, 1, 0, 3, 1, 0, 1, 1, 1, 1],\n",
       " Site(nx=0, ny=2): [2, 3, 3, 1, 3, 1, 2, 3, 2, 1],\n",
       " Site(nx=1, ny=2): [5, 4, 7, 1, 1, 4, 5, 1, 4, 1],\n",
       " Site(nx=2, ny=2): [2, 2, 2, 3, 3, 2, 2, 3, 2, 1],\n",
       " Site(nx=3, ny=2): [3, 2, 2, 1, 3, 2, 2, 2, 1, 1],\n",
       " Site(nx=4, ny=2): [1, 1, 2, 0, 3, 1, 2, 3, 2, 1],\n",
       " Site(nx=5, ny=2): [5, 5, 5, 3, 4, 5, 5, 5, 5, 1],\n",
       " Site(nx=6, ny=2): [3, 3, 3, 3, 3, 3, 3, 0, 3, 3],\n",
       " Site(nx=0, ny=3): [5, 5, 1, 3, 5, 1, 4, 5, 5, 3],\n",
       " Site(nx=1, ny=3): [2, 3, 0, 3, 2, 3, 2, 2, 3, 0],\n",
       " Site(nx=2, ny=3): [1, 6, 6, 7, 7, 7, 6, 6, 7, 1],\n",
       " Site(nx=3, ny=3): [0, 1, 1, 3, 1, 3, 1, 0, 3, 3],\n",
       " Site(nx=4, ny=3): [3, 1, 3, 3, 3, 3, 1, 1, 4, 3],\n",
       " Site(nx=5, ny=3): [1, 1, 1, 3, 1, 0, 1, 0, 3, 1],\n",
       " Site(nx=6, ny=3): [3, 1, 3, 1, 2, 1, 3, 2, 3, 1],\n",
       " Site(nx=0, ny=4): [2, 3, 2, 3, 2, 2, 2, 2, 2, 0],\n",
       " Site(nx=1, ny=4): [5, 3, 1, 3, 7, 2, 7, 1, 3, 3],\n",
       " Site(nx=2, ny=4): [2, 3, 3, 3, 0, 3, 0, 3, 0, 2],\n",
       " Site(nx=3, ny=4): [5, 5, 5, 5, 6, 5, 5, 3, 5, 5],\n",
       " Site(nx=4, ny=4): [3, 2, 3, 3, 1, 3, 2, 2, 2, 2],\n",
       " Site(nx=5, ny=4): [6, 7, 7, 7, 7, 3, 6, 1, 6, 7],\n",
       " Site(nx=6, ny=4): [0, 0, 0, 0, 3, 0, 0, 3, 0, 0],\n",
       " Site(nx=0, ny=5): [5, 0, 5, 0, 5, 5, 5, 5, 5, 7],\n",
       " Site(nx=1, ny=5): [1, 1, 14, 2, 0, 0, 9, 12, 0, 0],\n",
       " Site(nx=2, ny=5): [1, 11, 10, 11, 13, 10, 13, 8, 13, 1],\n",
       " Site(nx=3, ny=5): [3, 14, 15, 6, 15, 4, 14, 14, 10, 6],\n",
       " Site(nx=4, ny=5): [1, 7, 3, 7, 1, 7, 3, 3, 7, 7],\n",
       " Site(nx=5, ny=5): [14, 7, 15, 10, 12, 0, 14, 0, 15, 15],\n",
       " Site(nx=6, ny=5): [0, 5, 7, 3, 5, 7, 6, 7, 7, 7]}"
      ]
     },
     "execution_count": 15,
     "metadata": {},
     "output_type": "execute_result"
    }
   ],
   "source": [
    "out"
   ]
  },
  {
   "cell_type": "code",
   "execution_count": 16,
   "metadata": {},
   "outputs": [],
   "source": [
    "out, probability = env_mps.sample(projectors=opss, return_probabilities=True, number=10)"
   ]
  },
  {
   "cell_type": "code",
   "execution_count": 17,
   "metadata": {},
   "outputs": [
    {
     "data": {
      "text/plain": [
       "[np.float64(1.9258949598554826e-25),\n",
       " np.float64(1.764227068686928e-25),\n",
       " np.float64(3.75861107871388e-26),\n",
       " np.float64(4.355521598701734e-24),\n",
       " np.float64(1.6188063549216878e-22),\n",
       " np.float64(9.300159383001698e-24),\n",
       " np.float64(9.598050714619655e-28),\n",
       " np.float64(1.325713837306452e-23),\n",
       " np.float64(3.973941480920912e-25),\n",
       " np.float64(2.1077190255109144e-27)]"
      ]
     },
     "execution_count": 17,
     "metadata": {},
     "output_type": "execute_result"
    }
   ],
   "source": [
    "probability"
   ]
  },
  {
   "cell_type": "code",
   "execution_count": 18,
   "metadata": {},
   "outputs": [
    {
     "data": {
      "text/plain": [
       "{Site(nx=0, ny=0): [19, 17, 8, 9, 8, 24, 23, 24, 24, 24],\n",
       " Site(nx=1, ny=0): [29, 31, 19, 7, 27, 7, 7, 11, 6, 28],\n",
       " Site(nx=2, ny=0): [19, 3, 26, 30, 27, 12, 19, 26, 27, 18],\n",
       " Site(nx=3, ny=0): [13, 11, 15, 11, 11, 27, 15, 11, 22, 11],\n",
       " Site(nx=4, ny=0): [25, 23, 17, 17, 17, 14, 17, 16, 17, 8],\n",
       " Site(nx=5, ny=0): [17, 27, 19, 25, 19, 7, 31, 24, 31, 23],\n",
       " Site(nx=6, ny=0): [3, 3, 2, 3, 3, 3, 5, 2, 3, 3],\n",
       " Site(nx=0, ny=1): [3, 7, 6, 5, 5, 5, 3, 6, 7, 7],\n",
       " Site(nx=1, ny=1): [3, 3, 1, 3, 3, 3, 3, 3, 3, 1],\n",
       " Site(nx=2, ny=1): [2, 2, 7, 2, 2, 7, 7, 2, 2, 2],\n",
       " Site(nx=3, ny=1): [2, 1, 1, 1, 0, 0, 1, 1, 1, 2],\n",
       " Site(nx=4, ny=1): [5, 5, 4, 1, 5, 4, 5, 5, 5, 0],\n",
       " Site(nx=5, ny=1): [2, 1, 1, 2, 2, 0, 1, 2, 2, 2],\n",
       " Site(nx=6, ny=1): [1, 3, 3, 3, 1, 3, 3, 0, 1, 0],\n",
       " Site(nx=0, ny=2): [1, 3, 1, 0, 2, 2, 2, 2, 1, 3],\n",
       " Site(nx=1, ny=2): [1, 4, 4, 1, 4, 1, 4, 1, 1, 6],\n",
       " Site(nx=2, ny=2): [3, 3, 2, 2, 2, 1, 1, 3, 1, 3],\n",
       " Site(nx=3, ny=2): [3, 0, 3, 2, 5, 2, 2, 2, 0, 1],\n",
       " Site(nx=4, ny=2): [1, 1, 1, 1, 0, 1, 1, 1, 0, 2],\n",
       " Site(nx=5, ny=2): [5, 5, 4, 5, 6, 1, 5, 4, 3, 5],\n",
       " Site(nx=6, ny=2): [3, 3, 3, 3, 3, 3, 3, 3, 3, 3],\n",
       " Site(nx=0, ny=3): [1, 5, 1, 4, 5, 5, 5, 5, 1, 1],\n",
       " Site(nx=1, ny=3): [0, 2, 3, 3, 3, 0, 3, 0, 0, 0],\n",
       " Site(nx=2, ny=3): [6, 7, 6, 6, 7, 1, 3, 6, 1, 7],\n",
       " Site(nx=3, ny=3): [1, 3, 0, 1, 3, 1, 1, 1, 3, 3],\n",
       " Site(nx=4, ny=3): [3, 1, 3, 3, 5, 3, 3, 3, 7, 1],\n",
       " Site(nx=5, ny=3): [3, 1, 3, 1, 0, 1, 2, 3, 1, 0],\n",
       " Site(nx=6, ny=3): [3, 3, 3, 3, 1, 3, 1, 2, 3, 2],\n",
       " Site(nx=0, ny=4): [2, 2, 2, 0, 2, 2, 2, 2, 2, 3],\n",
       " Site(nx=1, ny=4): [2, 3, 3, 2, 2, 3, 3, 2, 7, 3],\n",
       " Site(nx=2, ny=4): [2, 2, 0, 2, 3, 2, 2, 3, 3, 0],\n",
       " Site(nx=3, ny=4): [5, 5, 1, 5, 5, 6, 5, 4, 3, 5],\n",
       " Site(nx=4, ny=4): [2, 2, 0, 3, 3, 1, 2, 1, 3, 2],\n",
       " Site(nx=5, ny=4): [7, 7, 7, 2, 3, 7, 1, 1, 7, 1],\n",
       " Site(nx=6, ny=4): [0, 0, 0, 2, 0, 0, 0, 2, 0, 3],\n",
       " Site(nx=0, ny=5): [5, 4, 7, 5, 5, 7, 5, 5, 7, 0],\n",
       " Site(nx=1, ny=5): [1, 0, 0, 1, 2, 14, 1, 0, 2, 0],\n",
       " Site(nx=2, ny=5): [1, 1, 11, 9, 11, 11, 13, 9, 11, 13],\n",
       " Site(nx=3, ny=5): [4, 10, 12, 4, 10, 11, 10, 4, 14, 14],\n",
       " Site(nx=4, ny=5): [7, 3, 7, 7, 7, 1, 7, 11, 3, 11],\n",
       " Site(nx=5, ny=5): [15, 14, 6, 14, 12, 12, 6, 15, 15, 0],\n",
       " Site(nx=6, ny=5): [6, 6, 6, 6, 7, 7, 6, 6, 7, 2]}"
      ]
     },
     "execution_count": 18,
     "metadata": {},
     "output_type": "execute_result"
    }
   ],
   "source": [
    "out"
   ]
  }
 ],
 "metadata": {
  "kernelspec": {
   "display_name": "yastn",
   "language": "python",
   "name": "python3"
  },
  "language_info": {
   "codemirror_mode": {
    "name": "ipython",
    "version": 3
   },
   "file_extension": ".py",
   "mimetype": "text/x-python",
   "name": "python",
   "nbconvert_exporter": "python",
   "pygments_lexer": "ipython3",
   "version": "3.12.8"
  }
 },
 "nbformat": 4,
 "nbformat_minor": 2
}
